{
 "cells": [
  {
   "cell_type": "code",
   "execution_count": null,
   "id": "b5a550d8",
   "metadata": {},
   "outputs": [],
   "source": [
    "#!pip install sentinelhub"
   ]
  },
  {
   "cell_type": "code",
   "execution_count": null,
   "id": "25b3158b",
   "metadata": {},
   "outputs": [],
   "source": [
    "#!pip install area"
   ]
  },
  {
   "cell_type": "markdown",
   "id": "5362160a",
   "metadata": {},
   "source": [
    "# Commercial data"
   ]
  },
  {
   "cell_type": "markdown",
   "id": "aa55df62",
   "metadata": {},
   "source": [
    "For use of commercial data you have to first provide your sentinel-hub account client id and client secret."
   ]
  },
  {
   "cell_type": "code",
   "execution_count": null,
   "id": "1f03898b",
   "metadata": {},
   "outputs": [],
   "source": [
    "from sentinelhub import SHConfig\n",
    "from oauthlib.oauth2 import BackendApplicationClient\n",
    "from requests_oauthlib import OAuth2Session\n",
    "from odc_sh import SentinelHubCommercialData\n",
    "from odc_sh import Providers, AirbusConstellation, ThumbnailType, WorldViewKernel, WorldViewSensor, SkySatType, SkySatBundle, ScopeType, ScopeBundle\n",
    "import pandas as pd\n",
    "import numpy as np\n",
    "from shapely.geometry import box\n",
    "from area import area\n",
    "import os\n",
    "import json\n",
    "import shapely\n",
    "\n",
    "sh_client_id=\"\"\n",
    "sh_client_secret=\"\"\n",
    "\n",
    "if not sh_client_id:\n",
    "    sh_client_id = os.environ['SH_CLIENT_ID']\n",
    "\n",
    "if not sh_client_secret:\n",
    "    sh_client_secret = os.environ['SH_CLIENT_SECRET']\n",
    "\n",
    "\n",
    "config = SHConfig()\n",
    "config.sh_client_id = sh_client_id\n",
    "config.sh_client_secret = sh_client_secret\n",
    "\n",
    "\n",
    "shcd = SentinelHubCommercialData(config)"
   ]
  },
  {
   "cell_type": "markdown",
   "id": "64524d06",
   "metadata": {},
   "source": [
    "## INFO"
   ]
  },
  {
   "cell_type": "markdown",
   "id": "8e9f49fa",
   "metadata": {},
   "source": [
    "Every response that have method \"print_info()\", also have a raw data in response object.\n",
    "Example:"
   ]
  },
  {
   "cell_type": "code",
   "execution_count": null,
   "id": "58b2965b",
   "metadata": {},
   "outputs": [],
   "source": [
    "q = shcd.quotas()\n",
    "q.print_info()\n",
    "\n",
    "# response data\n",
    "print(q.data)"
   ]
  },
  {
   "cell_type": "markdown",
   "id": "8c8ebab3",
   "metadata": {},
   "source": [
    "## Getting quotas"
   ]
  },
  {
   "cell_type": "code",
   "execution_count": null,
   "id": "0813e6d0",
   "metadata": {
    "scrolled": true
   },
   "outputs": [],
   "source": [
    "q = shcd.quotas()\n",
    "q.print_info()"
   ]
  },
  {
   "cell_type": "markdown",
   "id": "d54b6174",
   "metadata": {},
   "source": [
    "# Simple search"
   ]
  },
  {
   "cell_type": "markdown",
   "id": "69b71d5f",
   "metadata": {},
   "source": [
    "Setting date and time"
   ]
  },
  {
   "cell_type": "code",
   "execution_count": null,
   "id": "5766cfcb",
   "metadata": {},
   "outputs": [],
   "source": [
    "time_from = \"2017-05-25T00:00:00Z\"\n",
    "time_to = \"2018-10-25T23:59:59Z\""
   ]
  },
  {
   "cell_type": "markdown",
   "id": "64bc549e",
   "metadata": {},
   "source": [
    "Setting search area with 2 options:\n",
    "1. Bounding Box\n",
    "2. Polygon"
   ]
  },
  {
   "cell_type": "markdown",
   "id": "a6d85f8f",
   "metadata": {},
   "source": [
    "### Bounding Box"
   ]
  },
  {
   "cell_type": "code",
   "execution_count": null,
   "id": "49a637fd",
   "metadata": {},
   "outputs": [],
   "source": [
    "# Option 1: Set bounds as bbox\n",
    "bounds = [\n",
    "  12.742243,\n",
    "  42.05043,\n",
    "  12.746302,\n",
    "  42.053218\n",
    "]"
   ]
  },
  {
   "cell_type": "markdown",
   "id": "0755fe3b",
   "metadata": {},
   "source": [
    "### Polygon"
   ]
  },
  {
   "cell_type": "code",
   "execution_count": null,
   "id": "cac55510",
   "metadata": {},
   "outputs": [],
   "source": [
    "\n",
    "# Option 2: Set bounds as Polygon\n",
    "bounds_polygon = {\n",
    "  \"type\": \"Polygon\",\n",
    "  \"coordinates\": [\n",
    "   [\n",
    "    [\n",
    "     12.500395,\n",
    "     41.931337\n",
    "    ],\n",
    "    [\n",
    "     12.507856,\n",
    "     41.931018\n",
    "    ],\n",
    "    [\n",
    "     12.507513,\n",
    "     41.927825\n",
    "    ],\n",
    "    [\n",
    "     12.50048,\n",
    "     41.928719\n",
    "    ],\n",
    "    [\n",
    "     12.500395,\n",
    "     41.931337\n",
    "    ]\n",
    "   ]\n",
    "  ]\n",
    " }"
   ]
  },
  {
   "cell_type": "markdown",
   "id": "7762ab27",
   "metadata": {},
   "source": [
    "### Calculate Area"
   ]
  },
  {
   "cell_type": "code",
   "execution_count": null,
   "id": "e650009d",
   "metadata": {},
   "outputs": [],
   "source": [
    "aoi = box(bounds[0],bounds[1],bounds[2],bounds[3])\n",
    "\n",
    "#bbox area calculation\n",
    "area_sqm = area(json.dumps(shapely.geometry.mapping(aoi))) # area in m2 (sqm)\n",
    "\n",
    "print('Area for selected bounding box is:', round(area_sqm * 10 ** (-6),2), 'sq. km')"
   ]
  },
  {
   "cell_type": "markdown",
   "id": "c3b47a26",
   "metadata": {},
   "source": [
    "## Choose one of the providers below"
   ]
  },
  {
   "cell_type": "markdown",
   "id": "62297a90",
   "metadata": {},
   "source": [
    "### 1. AIRBUS Pleiades & SPOT"
   ]
  },
  {
   "cell_type": "code",
   "execution_count": null,
   "id": "d24df2d7",
   "metadata": {},
   "outputs": [],
   "source": [
    "\n",
    "# Option 1: AIRBUS Pleiades & SPOT\n",
    "# Optional parameters: \n",
    "#    - maxCloudCoverage (Values: 0-100 | 100 as default)\n",
    "#    - maxSnowCoverage (Vaules: 0-90 | 90 as default)\n",
    "#    - maxIncidenceAngle (Values: 0-90 | 90 as default)\n",
    "#    - processingLevel (Values: \"Sensor\",\"Album\" | \"Sensor\",\"Album\" as default)\n",
    "#\n",
    "#  example: shcd.search_airbus(AirbusConstellation, Bounds, Time_From, Time_To, *Optional parameters*)\n",
    "\n",
    "res = shcd.search_airbus(AirbusConstellation.SPOT, bounds, time_from, time_to, maxCloudCoverage=90, maxSnowCoverage=50)\n",
    "\n",
    "# Optional parameters: \n",
    "#    - props\n",
    "#\n",
    "# example: res.print_info(props=[\"id\", \"acquisitionDate\", \"resolution\", \"cloudCover\"])\n",
    "res.print_info(aoi=aoi)\n",
    "\n",
    "# Getting ids\n",
    "item_ids = res.get_ids()\n",
    "\n"
   ]
  },
  {
   "cell_type": "markdown",
   "id": "b8b2e784",
   "metadata": {},
   "source": [
    "### 2. Planet SCOPE"
   ]
  },
  {
   "cell_type": "code",
   "execution_count": null,
   "id": "e4ea0547",
   "metadata": {},
   "outputs": [],
   "source": [
    "\n",
    "# Option 2: Planet SCOPE\n",
    "# Optional parameters: \n",
    "#    - maxCloudCoverage (Values: 0-100 | 100 as default)\n",
    "#\n",
    "#  example: shcd.search_airbus(ScopeType, ScopeBundle, Bounds, Time_From, Time_To, *Optional parameters*)\n",
    "\n",
    "res = shcd.search_planet(ScopeType.PSScene, ScopeBundle.ANALYTIC_UDM2, bounds, time_from, time_to, maxCloudCoverage=90)\n",
    "\n",
    "# Optional parameters: \n",
    "#    - props\n",
    "#\n",
    "# example: res.print_info(props=[\"cloud_cover\", \"snow_ice_percent\", \"acquired\", \"pixel_resolution\"])\n",
    "res.print_info(aoi=aoi)\n",
    "\n",
    "# Getting ids\n",
    "item_ids = res.get_ids()\n"
   ]
  },
  {
   "cell_type": "markdown",
   "id": "ad114193",
   "metadata": {},
   "source": [
    "### 3. Planet SkySat"
   ]
  },
  {
   "cell_type": "code",
   "execution_count": null,
   "id": "24e1124b",
   "metadata": {},
   "outputs": [],
   "source": [
    "\n",
    "# Option 3: Planet SkySat\n",
    "#\n",
    "#  example: shcd.search_airbus(ScopeType, ScopeBundle, Bounds, Time_From, Time_To, planetApiKey=<your_planey_api_key>)\n",
    "\n",
    "res = shcd.search_planet(SkySatType.SkySatCollect, SkySatBundle.PANCHROMATIC, bounds, time_from, time_to, planetApiKey=\"\")\n",
    "\n",
    "# Optional parameters: \n",
    "#    - props\n",
    "#\n",
    "# example: res.print_info(props=[\"cloud_cover\", \"snow_ice_percent\", \"acquired\", \"pixel_resolution\"])\n",
    "res.print_info(aoi=aoi)\n",
    "\n",
    "# Getting ids\n",
    "item_ids = res.get_ids()\n"
   ]
  },
  {
   "cell_type": "markdown",
   "id": "82f13c72",
   "metadata": {},
   "source": [
    "### 4. WorldView"
   ]
  },
  {
   "cell_type": "code",
   "execution_count": null,
   "id": "00a54759",
   "metadata": {},
   "outputs": [],
   "source": [
    "\n",
    "# Option 4: WorldView MAXAR\n",
    "# Optional parameters:\n",
    "#    - maxCloudCoverage (Values: 0-100 | 100 as default)\n",
    "#    - minOffNadir (Values: 0-45 | 0 as default)\n",
    "#    - maxOffNadir (Values: 0-45 | 45 as default)\n",
    "#    - minSunElevation (Values: 0-90 | o as default)\n",
    "#    - maxSunElevation (Values: 0-90 | 90 as default)\n",
    "#    - sensor (Values: WorldViewSensor | Any as default)\n",
    "#\n",
    "#  example: shcd.search_airbus(WorldViewKernel, ScopeBundle, Bounds, Time_From, Time_To, *Optional parameters*)\n",
    "#\n",
    "\n",
    "res = shcd.search_worldview(WorldViewKernel.MTF, bounds, time_from, time_to, sensor=WorldViewSensor.WV01.value)\n",
    "\n",
    "# Optional parameters: \n",
    "#    - props\n",
    "#\n",
    "# example: res.print_info(props=[\"catalogId\", \"sensor\", \"maxSunAzimuth\", \"acquisitionDateStart\"])\n",
    "res.print_info(aoi=aoi)\n",
    "\n",
    "# Getting ids\n",
    "item_ids = res.get_ids()\n"
   ]
  },
  {
   "cell_type": "markdown",
   "id": "dbef13b0",
   "metadata": {},
   "source": [
    "## Error checking"
   ]
  },
  {
   "cell_type": "code",
   "execution_count": null,
   "id": "ea260172",
   "metadata": {},
   "outputs": [],
   "source": [
    "if not len(res.data.features):\n",
    "    print(\"No data found in request above.\")"
   ]
  },
  {
   "cell_type": "markdown",
   "id": "1939c1ef",
   "metadata": {},
   "source": [
    "## Thumbnail"
   ]
  },
  {
   "cell_type": "code",
   "execution_count": null,
   "id": "a6c257db",
   "metadata": {},
   "outputs": [],
   "source": [
    "import io\n",
    "from PIL import Image\n",
    "import matplotlib.pyplot as plt\n",
    "\n",
    "# Define product ids for a preview\n",
    "# item_id = [item_ids[0], item_ids[1], item_ids[2]...]\n",
    "selected_ids = [item_ids[0], item_ids[1]] if len(res.data.features) else []\n",
    "if not len(selected_ids):\n",
    "    print(\"No ids found.\")\n",
    "\n",
    "for sid in selected_ids:\n",
    "    thumbnail = shcd.thumbnail(res.thumb, sid)\n",
    "    image_bytes = io.BytesIO(thumbnail.content)\n",
    "    image = Image.open(image_bytes)\n",
    "    plt.imshow(image)\n",
    "    plt.show()\n",
    "    "
   ]
  },
  {
   "cell_type": "markdown",
   "id": "c2dbfacd",
   "metadata": {},
   "source": [
    "# Data Order"
   ]
  },
  {
   "cell_type": "markdown",
   "id": "8e62ca30",
   "metadata": {},
   "source": [
    "### OPTIONAL: Getting compatible collections"
   ]
  },
  {
   "cell_type": "code",
   "execution_count": null,
   "id": "230e690e",
   "metadata": {},
   "outputs": [],
   "source": [
    "collections = shcd.get_collection(res.query)\n",
    "collections.print_info()"
   ]
  },
  {
   "cell_type": "markdown",
   "id": "c67210c2",
   "metadata": {},
   "source": [
    "#### Select collection id"
   ]
  },
  {
   "cell_type": "code",
   "execution_count": null,
   "id": "3b05121e",
   "metadata": {},
   "outputs": [],
   "source": [
    "colIdx = -1 # Idx number from search above\n",
    "collectionId = collections.data[colIdx][\"id\"]"
   ]
  },
  {
   "cell_type": "markdown",
   "id": "1441fd7e",
   "metadata": {},
   "source": [
    "### Query order: Airbus, Planet SkySat and Scope"
   ]
  },
  {
   "cell_type": "code",
   "execution_count": null,
   "id": "46fe2e9f",
   "metadata": {},
   "outputs": [],
   "source": [
    "# Optional parametrs:\n",
    "#  - collectionId\n",
    "#\n",
    "# example: shcd.order(\"Order name\", Query, *Optional_parameters*)\n",
    "\n",
    "# response = shcd.order(\"New query order\", res.query)"
   ]
  },
  {
   "cell_type": "markdown",
   "id": "2edc51ad",
   "metadata": {},
   "source": [
    "### Normal order: Airbus, Planet SkySat and Scope"
   ]
  },
  {
   "cell_type": "code",
   "execution_count": null,
   "id": "a26a72f7",
   "metadata": {
    "scrolled": true
   },
   "outputs": [],
   "source": [
    "# Optional parametrs:\n",
    "#  - collectionId\n",
    "#\n",
    "# example: shcd.order(\"Order name\", Query, Items_Ids)\n",
    "# example with collectionId: shcd.order(\"Order name\", Query, Items_Ids, collectionId=collectionId)\n",
    "\n",
    "\n",
    "order = shcd.order(\"New normal order 11\", res.query, item_ids=selected_ids)\n",
    "order.print_info()"
   ]
  },
  {
   "cell_type": "markdown",
   "id": "1d2cf256",
   "metadata": {},
   "source": [
    "### Getting orders"
   ]
  },
  {
   "cell_type": "code",
   "execution_count": null,
   "id": "20c0ec6f",
   "metadata": {},
   "outputs": [],
   "source": [
    "# Optional: Get single order by adding order_id as parameter\n",
    "# example: shcd.get_orders(\"asdf12-12bfa...\")\n",
    "\n",
    "orders = shcd.get_orders()\n",
    "orders.print_info()\n",
    "\n",
    "order_ids = orders.get_ids()\n"
   ]
  },
  {
   "cell_type": "markdown",
   "id": "47e9184a",
   "metadata": {},
   "source": [
    "## Selecting an order"
   ]
  },
  {
   "cell_type": "code",
   "execution_count": null,
   "id": "3b09687d",
   "metadata": {},
   "outputs": [],
   "source": [
    "order_id = order_ids[2] #you can use order_ids[1]"
   ]
  },
  {
   "cell_type": "markdown",
   "id": "62d2565c",
   "metadata": {},
   "source": [
    "### Delete order"
   ]
  },
  {
   "cell_type": "code",
   "execution_count": null,
   "id": "521d4793",
   "metadata": {},
   "outputs": [],
   "source": [
    "res = shcd.delete_order(order_id)\n",
    "res.print_info()"
   ]
  },
  {
   "cell_type": "markdown",
   "id": "23eca9b0",
   "metadata": {},
   "source": [
    "### Confirm order"
   ]
  },
  {
   "cell_type": "code",
   "execution_count": null,
   "id": "7ddbfd91",
   "metadata": {},
   "outputs": [],
   "source": [
    "res = shcd.confirm_order(order_id)\n",
    "res.print_info()"
   ]
  }
 ],
 "metadata": {
  "kernelspec": {
   "display_name": "Python 3 (ipykernel)",
   "language": "python",
   "name": "python3"
  },
  "language_info": {
   "codemirror_mode": {
    "name": "ipython",
    "version": 3
   },
   "file_extension": ".py",
   "mimetype": "text/x-python",
   "name": "python",
   "nbconvert_exporter": "python",
   "pygments_lexer": "ipython3",
   "version": "3.9.13"
  },
  "vscode": {
   "interpreter": {
    "hash": "a2a24b19c07de222b1e110e52e9ad43b6c20323470c4464d7e3b9b27f385819c"
   }
  }
 },
 "nbformat": 4,
 "nbformat_minor": 5
}
